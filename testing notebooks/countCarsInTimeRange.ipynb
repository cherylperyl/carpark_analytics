{
 "cells": [
  {
   "cell_type": "code",
   "execution_count": 6,
   "metadata": {},
   "outputs": [],
   "source": [
    "import pandas as pd\n",
    "import numpy as np\n",
    "import datetime"
   ]
  },
  {
   "cell_type": "code",
   "execution_count": 1,
   "metadata": {},
   "outputs": [],
   "source": [
    "# variables\n",
    "building = \"CARPARK1\"\n",
    "month = \"June\"\n",
    "year = \"2022\"\n",
    "reportName = \"HISTORY TRANSACTION\"\n",
    "fileFormat = \"csv\""
   ]
  },
  {
   "cell_type": "code",
   "execution_count": 7,
   "metadata": {},
   "outputs": [],
   "source": [
    "path = \"batch 2/outputFiles/entryExitMatched/CARPARK1entryExitMatched.csv\"\n",
    "entry_df = pd.read_csv(path)\n",
    "entry_df[\"ENTRYDATETIME\"] = pd.to_datetime(entry_df[\"ENTRYDATETIME\"], dayfirst=True)\n",
    "entry_df[\"EXITDATETIME\"] = pd.to_datetime(entry_df[\"EXITDATETIME\"], dayfirst=True)"
   ]
  },
  {
   "cell_type": "code",
   "execution_count": 9,
   "metadata": {},
   "outputs": [],
   "source": [
    "option = \"Hours\"\n",
    "multiple = \"1\"\n",
    "frequency = {\"Seconds\": \"S\",\n",
    "            \"Minutes\": \"min\",\n",
    "            \"Hours\": \"H\"}\n",
    "columns = pd.date_range(start=\"00:00:00\", end=\"23:59:59\", freq=multiple+frequency[option])"
   ]
  },
  {
   "cell_type": "code",
   "execution_count": 10,
   "metadata": {},
   "outputs": [],
   "source": [
    "# round down datetime\n",
    "def roundTime(start, end, option):\n",
    "    if option == \"Hours\":\n",
    "        return start.replace(microsecond=0, second=0, minute=0), end.replace(microsecond=0, second=0, minute=0)\n",
    "    elif option == \"Minutes\":\n",
    "        return start.replace(microsecond=0, second=0), end.replace(microsecond=0, second=0)\n",
    "    elif option ==\"Seconds\":\n",
    "        return start.replace(microsecond=0), end.replace(microsecond=0)\n",
    "    else:\n",
    "        print(\"Invalid Option!\")\n",
    "\n",
    "timeRanges = []\n",
    "for index, row in entry_df.iterrows():\n",
    "    try:\n",
    "        startTime, endTime = roundTime(row[\"ENTRYDATETIME\"], row[\"EXITDATETIME\"], option)\n",
    "        timeRanges.append(pd.date_range(startTime, endTime, freq=multiple+frequency[option]))\n",
    "    except ValueError:\n",
    "        timeRanges.append(np.NaN)\n",
    "entry_df[\"timeRange\"] =  timeRanges"
   ]
  },
  {
   "cell_type": "code",
   "execution_count": 11,
   "metadata": {},
   "outputs": [],
   "source": [
    "for time in columns:\n",
    "    specific_time = []\n",
    "    for index, row in entry_df.iterrows():\n",
    "        time_found = False\n",
    "        timeRanges = row[\"timeRange\"]\n",
    "        if type(timeRanges) != float:\n",
    "            for timestamp in timeRanges:\n",
    "                if time.time() == timestamp.time():\n",
    "                    specific_time.append(1)\n",
    "                    time_found = True\n",
    "                    break\n",
    "            if time_found == False:\n",
    "                specific_time.append(0)\n",
    "        else:\n",
    "            specific_time.append(0)\n",
    "    entry_df[time.time()] = specific_time"
   ]
  },
  {
   "cell_type": "code",
   "execution_count": 16,
   "metadata": {},
   "outputs": [],
   "source": [
    "def getDate(dtObject):\n",
    "    if type(dtObject) != float:\n",
    "        return str(dtObject).split()[0]\n",
    "\n",
    "entry_df[\"DATE\"] = entry_df[\"ENTRYDATETIME\"].apply(getDate)\n",
    "byDay_df = entry_df.groupby(\"DATE\").sum()\n",
    "byDay_df.drop(columns=[\"S/NO.\", \"VEHICLE\"], inplace=True)\n",
    "byDay_df.reset_index(inplace=True)"
   ]
  },
  {
   "cell_type": "code",
   "execution_count": 92,
   "metadata": {},
   "outputs": [],
   "source": [
    "def getWeekday(date):\n",
    "    dateComponents = date.split('-')\n",
    "    dtObject = datetime.date(year=int(dateComponents[0]), month=int(dateComponents[1]), day=int(dateComponents[2]))\n",
    "    return dtObject.weekday()\n",
    "\n",
    "byDay_df[\"DAY\"] = byDay_df[\"DATE\"].apply(getWeekday)\n"
   ]
  },
  {
   "cell_type": "code",
   "execution_count": 94,
   "metadata": {},
   "outputs": [],
   "source": [
    "byWeekday_df = byDay_df.groupby(\"DAY\").mean().reset_index().sort_values(\"DAY\")\n",
    "\n",
    "def convertToDaysOfTheWeek(num):\n",
    "    weekdays = [\"Monday\", \"Tuesday\", \"Wednesday\", \"Thursday\", \"Friday\", \"Saturday\", \"Sunday\"]\n",
    "    return weekdays[num]\n",
    "\n",
    "byWeekday_df[\"DAY\"] = byWeekday_df[\"DAY\"].apply(convertToDaysOfTheWeek)"
   ]
  },
  {
   "cell_type": "code",
   "execution_count": 95,
   "metadata": {},
   "outputs": [],
   "source": [
    "# create excel\n",
    "batchNo = \"2\"\n",
    "building = \"SOL\"\n",
    "excelName = building + \"heatmap\" \n",
    "\n",
    "path = \"batch \" + batchNo + \"/outputFiles/heatmaps/\" + excelName + \".xlsx\"\n",
    "writer = pd.ExcelWriter(path, engine='xlsxwriter')\n",
    "\n",
    "# add data to excel sheet\n",
    "byDay_df.to_excel(writer, sheet_name=\"byDay\", index=False)\n",
    "\n",
    "# Get sheet for conditional formatting \n",
    "worksheet = writer.sheets['byDay']\n",
    "\n",
    "# Add conditional formatting\n",
    "rowCount = str(byDay_df.shape[0]+1)\n",
    "worksheet.conditional_format('B2:Y'+rowCount, {'type': '3_color_scale',\n",
    "                                                'min_type': 'min',\n",
    "                                                'mid_type': 'percent',\n",
    "                                                'mid_value': 25,\n",
    "                                                'max_type': 'max',\n",
    "                                                'min_color': '#63BE7B',\n",
    "                                                'mid_color': '#FFEB84',\n",
    "                                                'max_color': '#F8696B',\n",
    "                                                })\n",
    "\n",
    "# add data to excel sheet\n",
    "byWeekday_df.to_excel(writer, sheet_name=\"byWeekday\", index=False)\n",
    "\n",
    "# Get sheet for conditional formatting \n",
    "worksheet = writer.sheets['byWeekday']\n",
    "\n",
    "# Add conditional formatting\n",
    "rowCount = str(byWeekday_df.shape[0]+1)\n",
    "worksheet.conditional_format('B2:Y'+rowCount, {'type': '3_color_scale',\n",
    "                                                'min_type': 'min',\n",
    "                                                'mid_type': 'percent',\n",
    "                                                'mid_value': 25,\n",
    "                                                'max_type': 'max',\n",
    "                                                'min_color': '#63BE7B',\n",
    "                                                'mid_color': '#FFEB84',\n",
    "                                                'max_color': '#F8696B',\n",
    "                                                })\n",
    "\n",
    "writer.save()"
   ]
  }
 ],
 "metadata": {
  "kernelspec": {
   "display_name": "Python 3.10.5 64-bit",
   "language": "python",
   "name": "python3"
  },
  "language_info": {
   "codemirror_mode": {
    "name": "ipython",
    "version": 3
   },
   "file_extension": ".py",
   "mimetype": "text/x-python",
   "name": "python",
   "nbconvert_exporter": "python",
   "pygments_lexer": "ipython3",
   "version": "3.8.5"
  },
  "orig_nbformat": 4,
  "vscode": {
   "interpreter": {
    "hash": "aee8b7b246df8f9039afb4144a1f6fd8d2ca17a180786b69acc140d282b71a49"
   }
  }
 },
 "nbformat": 4,
 "nbformat_minor": 2
}
